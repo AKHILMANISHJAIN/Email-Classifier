{
 "cells": [
  {
   "cell_type": "markdown",
   "metadata": {
    "id": "BKCrcukdE8Bb"
   },
   "source": [
    "# Assignment: Classification\n",
    "\n",
    "Classification refers to categorizing the given data into classes. For example,\n",
    "- Given an image of hand-written character, identifying the character (multi-class classification)\n",
    "- Given an image, annotating it with all the objects present in the image (multi-label classification)\n",
    "- Classifying an email as spam or non-spam (binary classification)\n",
    "- Classifying a tumor as benign or malignant and so on\n",
    "\n",
    "In this assignment, we will be building a classifier to classify emails as spam or non-spam. We will be using the Kaggle dataset [Spam or Not Spam Dataset](https://www.kaggle.com/datasets/ozlerhakan/spam-or-not-spam-dataset?resource=download) for this task. \n",
    "\n",
    "**Note**: You cannot load any libraries other than the mentioned ones.\n",
    "\n",
    "\n"
   ]
  },
  {
   "cell_type": "markdown",
   "metadata": {
    "id": "Irp6f7_2crfu"
   },
   "source": [
    "### Data pre-processing\n",
    "The first step in every machine learning algorithm is to process the raw data in some meaningful representations. We will be using the [Bag-of-Words](https://towardsdatascience.com/a-simple-explanation-of-the-bag-of-words-model-b88fc4f4971) representation to process the text. It comprises of following steps:\n",
    "\n",
    "- Process emails line-by-line to extract all the words.\n",
    "- Replace extracted words by their stem (root) word. This is known as stemming and lematization.\n",
    "- Remove stop words like and, or, is, am, and so on.\n",
    "- Assign a unique index to each word. This forms the vocabulary.\n",
    "- Represent each email as a binary vector of length equal to the size of the vocabulary such that the $i^{th}$ element of the vector is 1 iff the $i^th$ word is present in the email.\n",
    "\n",
    "Here we provide you with the function signature along with the expected functionality. You are expected to complete them accordingly. "
   ]
  },
  {
   "cell_type": "code",
   "execution_count": 2,
   "metadata": {
    "id": "wIlTOyyPn-mN"
   },
   "outputs": [],
   "source": [
    "import numpy as np\n",
    "from nltk.stem import PorterStemmer\n",
    "from nltk.corpus import stopwords\n",
    "\n",
    "# takes an email as an argument\n",
    "# read email line-by-line and extract all the words\n",
    "# return list of extracted words\n",
    "def read_email(email):\n",
    "    words=email.split()\n",
    "    return words\n",
    "# takes a list of words as an argument\n",
    "# replace each word by their stem word\n",
    "# return list of stem words\n",
    "def stemming(word):\n",
    "    ps=PorterStemmer()\n",
    "    stem_words=[]\n",
    "    for w in word :\n",
    "        w_stem=ps.stem(w)\n",
    "        stem_words.append(w_stem)\n",
    "    return stem_words\n",
    "\n",
    "# takes a list of stem-words as an argument\n",
    "# remove stop words\n",
    "# return list of stem words after removing stop words\n",
    "def remove_stop_words(word):\n",
    "    stop_words = set(stopwords.words('english'))\n",
    "    stem_no_stop_words = [w for w in word if not w.lower() in stop_words]\n",
    "#     for w in word :\n",
    "#         if w not in stop_words :\n",
    "#             stem_no_stop_words.append(w)\n",
    "    return stem_no_stop_words\n",
    "\n",
    "# takes a list of stem-words as an argument\n",
    "# add new words to the vocabulary and assign a unique index to them\n",
    "# returns new vocabulary\n",
    "def build_vocabulary(word):\n",
    "    list1 = []\n",
    "    for w in word :\n",
    "        if w not in list1 :\n",
    "            list1.append(w)\n",
    "    vocab=dict(enumerate(list1))\n",
    "    return vocab\n",
    "\n",
    "# takes a list of stem-words and vocabulary as an argument\n",
    "# returns bow representation\n",
    "def get_bow(email,vocab):\n",
    "    l = len(vocab)\n",
    "    email_bow = [0 for i in range(l)]\n",
    "    key_list = list(vocab.keys())\n",
    "    val_list = list(vocab.values())\n",
    "    for w in email :\n",
    "        p = val_list.index(w)\n",
    "        x = key_list[p]\n",
    "        email_bow[x]+=1\n",
    "    return email_bow\n",
    "\n",
    "# read the entire dataset\n",
    "# convert emails to bow and maintain their labels\n",
    "# call function text_to_bow()\n",
    "# def read_data():\n",
    "#   return data\n",
    "\n",
    "content = np.loadtxt('spam_or_not_spam.csv',encoding='utf8',delimiter=',',dtype=str, skiprows=1)\n",
    "readed_emails = []\n",
    "stem_words = []\n",
    "removed_stop_words = []\n",
    "combined_words = []\n",
    "vocab = {}\n",
    "bow = []\n",
    "label=[]\n",
    "\n",
    "for row in content :\n",
    "    list1 = read_email(row[0])\n",
    "    readed_emails.append(list1)\n",
    "    \n",
    "for row in readed_emails :\n",
    "    list1 = stemming(row)\n",
    "    stem_words.append(list1)\n",
    "    \n",
    "for row in stem_words :\n",
    "    list1 = remove_stop_words(row)\n",
    "    removed_stop_words.append(list1)\n",
    "    \n",
    "for row in removed_stop_words :\n",
    "    combined_words = combined_words + row\n",
    "    \n",
    "vocab = build_vocabulary(combined_words)\n",
    "i=0\n",
    "\n",
    "for row in removed_stop_words :\n",
    "    list1 = get_bow(row,vocab)\n",
    "    list1.append(int(content[i][1]))\n",
    "    bow.append(list1)\n",
    "    i+=1"
   ]
  },
  {
   "cell_type": "markdown",
   "metadata": {
    "id": "d0cDiGt6nkPY"
   },
   "source": [
    "### Data Visualization\n",
    "Let's understand the data distribution\n",
    "- Visualize the frequency of word-occurence in all the emails(spam + non-spam)\n",
    "- Visualize the freuency of word-occurence for spam and non-spam emails separately"
   ]
  },
  {
   "cell_type": "code",
   "execution_count": 5,
   "metadata": {
    "id": "4vJLcTxDLZsh"
   },
   "outputs": [
    {
     "data": {
      "image/png": "[encoded data removed]",
      "text/plain": [
       "<Figure size 432x288 with 1 Axes>"
      ]
     },
     "metadata": {
      "needs_background": "light"
     },
     "output_type": "display_data"
    }
   ],
   "source": [
    "import matplotlib.pyplot as plt\n",
    "\n",
    "# visualize data distribution\n",
    "def data_vis(bow):\n",
    "    n=len(vocab)\n",
    "    freq_list=[0]*n\n",
    "    freq_spam_list=[0]*n\n",
    "    freq_non_spam_list=[0]*n\n",
    "    for row in bow :\n",
    "        for i in range(0,n) :\n",
    "            freq_list[i]+=row[i]\n",
    "            if(row[n]==1) :\n",
    "                freq_spam_list[i]+=row[i]\n",
    "            else :\n",
    "                freq_non_spam_list[i]+=row[i]\n",
    "    freq_list=np.array(freq_list)\n",
    "    freq_spam_list=np.array(freq_spam_list)\n",
    "    freq_non_spam_list=np.array(freq_non_spam_list)\n",
    "    l_o_l=[]\n",
    "    l_o_l_spam=[]\n",
    "    l_o_l_non_spam=[]\n",
    "    for i in range(0,n) :\n",
    "        list1=[]\n",
    "        list2=[]\n",
    "        list3=[]\n",
    "        list1.append(freq_list[i])\n",
    "        list1.append(vocab[i])\n",
    "        list2.append(freq_spam_list[i])\n",
    "        list2.append(vocab[i])\n",
    "        list3.append(freq_non_spam_list[i])\n",
    "        list3.append(vocab[i])\n",
    "        l_o_l.append(list1)\n",
    "        l_o_l_spam.append(list2)\n",
    "        l_o_l_non_spam.append(list3)\n",
    "    l_o_l.sort()\n",
    "    l_o_l.reverse()\n",
    "    l_o_l_spam.sort()\n",
    "    l_o_l_spam.reverse()\n",
    "    l_o_l_non_spam.sort()\n",
    "    l_o_l_non_spam.reverse()\n",
    "    word_list=[]\n",
    "    n_list=[]\n",
    "    word_spam_list=[]\n",
    "    n_spam_list=[]\n",
    "    word_non_spam_list=[]\n",
    "    n_non_spam_list=[]\n",
    "    for i in range(0,10) :\n",
    "        n_list.append(l_o_l[i][0])\n",
    "        word_list.append(l_o_l[i][1])\n",
    "        n_spam_list.append(l_o_l_spam[i][0])\n",
    "        word_spam_list.append(l_o_l_spam[i][1])\n",
    "        n_non_spam_list.append(l_o_l_non_spam[i][0])\n",
    "        word_non_spam_list.append(l_o_l_non_spam[i][1])\n",
    "    return n_list,word_list,n_spam_list,word_spam_list,n_non_spam_list,word_non_spam_list\n",
    "\n",
    "n_list, word_list,n_spam_list,word_spam_list,n_non_spam_list,word_non_spam_list = data_vis(bow)\n",
    "plt.bar(word_list, n_list, color ='blue', width = 0.4)\n",
    "plt.xlabel(\"Top 10 words w.r.t. frequency\")\n",
    "plt.ylabel(\"Frequency of words \")\n",
    "plt.title(\"Frequency of words in all the emails (spam+non-spam)\")\n",
    "plt.show()"
   ]
  },
  {
   "cell_type": "code",
   "execution_count": 6,
   "metadata": {},
   "outputs": [
    {
     "data": {
      "image/png": "[encoded data removed]",
      "text/plain": [
       "<Figure size 432x288 with 1 Axes>"
      ]
     },
     "metadata": {
      "needs_background": "light"
     },
     "output_type": "display_data"
    }
   ],
   "source": [
    "plt.bar(word_non_spam_list, n_non_spam_list, color ='blue', width = 0.4)\n",
    "plt.xlabel(\"Top 10 words w.r.t. frequency\")\n",
    "plt.ylabel(\"Frequency of words\")\n",
    "plt.title(\"Frequency of words in all the non_spam emails\")\n",
    "plt.show()"
   ]
  },
  {
   "cell_type": "code",
   "execution_count": 7,
   "metadata": {},
   "outputs": [
    {
     "data": {
      "image/png": "[encoded data removed]",
      "text/plain": [
       "<Figure size 432x288 with 1 Axes>"
      ]
     },
     "metadata": {
      "needs_background": "light"
     },
     "output_type": "display_data"
    }
   ],
   "source": [
    "plt.bar(word_spam_list, n_spam_list, color ='blue', width = 0.4)\n",
    "plt.xlabel(\"Top 10 words w.r.t. frequency\")\n",
    "plt.ylabel(\"Frequency of words\")\n",
    "plt.title(\"Frequency of words in all the spam emails\")\n",
    "plt.show()"
   ]
  },
  {
   "cell_type": "markdown",
   "metadata": {
    "id": "LPq-3nTzGcdX"
   },
   "source": [
    "### Learn a Classifier\n",
    "Split the dataset randomly in the ratio 80:20 as the training and test dataset. Use only training dataset to learn the classifier. No test data should be used during training. Test data will only be used during evaluation.\n",
    "\n",
    "Now let us try to use ML algorithms to classify emails as spam or non-spam. You are supposed to implement [SVM](https://scikit-learn.org/stable/modules/svm.html) and [K-Nearest Neighbour](https://scikit-learn.org/stable/modules/generated/sklearn.neighbors.KNeighborsClassifier.html) algorithm available in scikit-learn using the same training dataset for both."
   ]
  },
  {
   "cell_type": "code",
   "execution_count": 18,
   "metadata": {
    "id": "IMpuaPCKHxwh"
   },
   "outputs": [],
   "source": [
    "from sklearn.neighbors import KNeighborsClassifier\n",
    "from sklearn import svm\n",
    "\n",
    "# split dataset\n",
    "def split(data):\n",
    "    data=np.array(data)\n",
    "    np.random.shuffle(data)\n",
    "    n = int(0.8*len(data))\n",
    "    features = data[:,:-1]\n",
    "    labels = data[:,-1]\n",
    "    train_X, test_X = features[:n], features[n:]\n",
    "    train_Y, test_Y = labels[:n], labels[n:]\n",
    "#     for i in range(len(train_Y)) :\n",
    "#         train_Y[i]= int(train_Y[i])\n",
    "#     for i in range(len(train_Y)) :\n",
    "#         train_Y[i]= int(train_Y[i])\n",
    "    train_data = [train_X, train_Y]\n",
    "    test_data = [test_X, test_Y]\n",
    "    return train_data, test_data \n",
    "# learn a SVM model\n",
    "# use the model to make prediction\n",
    "# return the model predictions on train and test dataset\n",
    "def svm_classifier(train_data, test_data):\n",
    "    clf = svm.SVC(kernel='linear')\n",
    "    clf.fit(train_data[0],train_data[1])\n",
    "    predict_labels = (clf.predict(train_data[0]), clf.predict(test_data[0]))\n",
    "    return predict_labels\n",
    "\n",
    "# implement k-NN algorithm\n",
    "# use the model to make prediction\n",
    "# return the model predictions on train and test dataset\n",
    "def knn_classifier(train_data, test_data):\n",
    "    knn = KNeighborsClassifier(n_neighbors=3)\n",
    "    knn.fit(train_data[0],train_data[1])\n",
    "    predict_labels = (knn.predict(train_data[0]), knn.predict(test_data[0]))\n",
    "    return predict_labels\n",
    "\n",
    "train_data, test_data = split(bow)\n",
    "svm_train_predictions, svm_test_predictions = svm_classifier(train_data, test_data)\n",
    "knn_train_predictions, knn_test_predictions = knn_classifier(train_data, test_data)"
   ]
  },
  {
   "cell_type": "markdown",
   "metadata": {
    "id": "SlCwYvluHqQz"
   },
   "source": [
    "### Model Evaluation\n",
    "Compare the SVM and k-NN model using metrics\n",
    "- Accuracy\n",
    "- [AUC score](https://scikit-learn.org/stable/modules/generated/sklearn.metrics.auc.html)\n"
   ]
  },
  {
   "cell_type": "code",
   "execution_count": 19,
   "metadata": {
    "id": "X3KmcTpqKbGI"
   },
   "outputs": [],
   "source": [
    "from sklearn import metrics\n",
    "\n",
    "# compute accuracy \n",
    "def compute_accuracy(true_labels, predicted_labels):\n",
    "    acc = metrics.accuracy_score(true_labels, predicted_labels)\n",
    "    return acc\n",
    "\n",
    "# compute AUC score \n",
    "def compute_auc(true_labels, predicted_labels):\n",
    "    fpr, tpr, thresholds = metrics.roc_curve(true_labels, predicted_labels)\n",
    "    auc = metrics.auc(fpr,tpr)\n",
    "    return auc\n",
    "\n",
    "svm_train_acc = compute_accuracy(train_data[1],svm_train_predictions)\n",
    "knn_train_acc = compute_auc(train_data[1],knn_train_predictions)\n",
    "svm_test_acc = compute_accuracy(test_data[1],svm_test_predictions)\n",
    "knn_test_acc = compute_auc(test_data[1],knn_test_predictions)\n",
    "# write code to print train and test accuracy and AUC score of SVM and k-NN classifier"
   ]
  },
  {
   "cell_type": "code",
   "execution_count": 20,
   "metadata": {},
   "outputs": [
    {
     "data": {
      "text/plain": [
       "0.9991666666666666"
      ]
     },
     "execution_count": 20,
     "metadata": {},
     "output_type": "execute_result"
    }
   ],
   "source": [
    "svm_train_acc"
   ]
  },
  {
   "cell_type": "code",
   "execution_count": 21,
   "metadata": {},
   "outputs": [
    {
     "data": {
      "text/plain": [
       "0.9192062827251791"
      ]
     },
     "execution_count": 21,
     "metadata": {},
     "output_type": "execute_result"
    }
   ],
   "source": [
    "knn_train_acc"
   ]
  },
  {
   "cell_type": "code",
   "execution_count": 22,
   "metadata": {},
   "outputs": [
    {
     "data": {
      "text/plain": [
       "0.9883333333333333"
      ]
     },
     "execution_count": 22,
     "metadata": {},
     "output_type": "execute_result"
    }
   ],
   "source": [
    "svm_test_acc"
   ]
  },
  {
   "cell_type": "code",
   "execution_count": 23,
   "metadata": {},
   "outputs": [
    {
     "data": {
      "text/plain": [
       "0.8277714456548142"
      ]
     },
     "execution_count": 23,
     "metadata": {},
     "output_type": "execute_result"
    }
   ],
   "source": [
    "knn_test_acc"
   ]
  }
 ],
 "metadata": {
  "colab": {
   "collapsed_sections": [],
   "name": "python-assignment.ipynb",
   "provenance": []
  },
  "kernelspec": {
   "display_name": "Python 3 (ipykernel)",
   "language": "python",
   "name": "python3"
  },
  "language_info": {
   "codemirror_mode": {
    "name": "ipython",
    "version": 3
   },
   "file_extension": ".py",
   "mimetype": "text/x-python",
   "name": "python",
   "nbconvert_exporter": "python",
   "pygments_lexer": "ipython3",
   "version": "3.9.7"
  }
 },
 "nbformat": 4,
 "nbformat_minor": 1
}
